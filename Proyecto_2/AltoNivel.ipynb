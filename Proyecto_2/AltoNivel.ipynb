{
 "cells": [
  {
   "cell_type": "code",
   "execution_count": 31,
   "id": "3bd806e6-fc09-4988-b41b-c8d09eb9453a",
   "metadata": {},
   "outputs": [],
   "source": [
    "import numpy as np\n",
    "import soundfile as sf\n",
    "import sounddevice as sd\n",
    "from scipy.signal import lfilter\n",
    "from scipy.io.wavfile import write"
   ]
  },
  {
   "cell_type": "code",
   "execution_count": 36,
   "id": "3dd47394-7b7f-4ed0-947c-f05231ba29de",
   "metadata": {},
   "outputs": [],
   "source": [
    "def escuchar_audio(nombre):\n",
    "    # Lectura del archivo\n",
    "    archivo, fs = sf.read(nombre)\n",
    "    # Reproduce el sonido\n",
    "    sd.play(archivo, samplerate=fs)\n",
    "    sd.wait()"
   ]
  },
  {
   "cell_type": "code",
   "execution_count": 24,
   "id": "99000c6c-84d2-43ce-a0fa-879e2cc0521d",
   "metadata": {},
   "outputs": [],
   "source": [
    "def custom_lfilter(b, a, x):\n",
    "    # Longitudes de los coeficientes\n",
    "    N = len(a)\n",
    "    M = len(b)\n",
    "    \n",
    "    # Asegurarse de que a[0] es 1, si no, normalizar\n",
    "    if a[0] != 1:\n",
    "        a = [coef/a[0] for coef in a]\n",
    "        b = [coef/a[0] for coef in b]\n",
    "    \n",
    "    # Inicializar la salida\n",
    "    y = np.zeros_like(x)\n",
    "    \n",
    "    # Iterar sobre cada muestra de la señal\n",
    "    for n in range(len(x)):\n",
    "        y[n] = sum([b[k] * x[n-k] for k in range(M) if n-k >= 0])\n",
    "        y[n] -= sum([a[k] * y[n-k] for k in range(1, N) if n-k >= 0])\n",
    "    \n",
    "    return y\n"
   ]
  },
  {
   "cell_type": "code",
   "execution_count": 65,
   "id": "0045012e-3b36-4c27-9f92-1e981b4f8715",
   "metadata": {},
   "outputs": [
    {
     "name": "stdout",
     "output_type": "stream",
     "text": [
      "(2205,)\n",
      "[0.4]\n"
     ]
    }
   ],
   "source": [
    "# Lectura del archivo\n",
    "archivo, fs = sf.read('./Sonidos/xylophon.mp3')\n",
    "\n",
    "# Convertir el audio estéreo a mono si es necesario\n",
    "if len(archivo.shape) > 1 and archivo.shape[1] == 2:\n",
    "    archivo = np.mean(archivo, axis=1)\n",
    "\n",
    "# Parámetros del filtro\n",
    "alpha = 0.6\n",
    "k_sinfs = 0.05\n",
    "\n",
    "# Ajuste para el retardo k\n",
    "k = int(fs * k_sinfs)\n",
    "\n",
    "# Se crea un vector de k elementos lleno de ceros para implementar el retardo hasta k muestras\n",
    "polos = np.zeros(k)\n",
    "\n",
    "# Se coloca el y(n)\n",
    "polos[0] = 1\n",
    "\n",
    "# Se coloca el retardo a la muestra y(n-k)\n",
    "polos[k-1] = alpha\n",
    "\n",
    "# Se coloca la atenuación (1 - alpha) a la muestra x(n)\n",
    "ceros = [1 - alpha]\n",
    "\n",
    "\n",
    "print(polos.shape)\n",
    "print(ceros)"
   ]
  },
  {
   "cell_type": "code",
   "execution_count": 49,
   "id": "060e6e9e-9d25-4746-87f0-deaa7d2bb51c",
   "metadata": {},
   "outputs": [
    {
     "name": "stdin",
     "output_type": "stream",
     "text": [
      "Presione enter para escuchar reverberación eliminada \n"
     ]
    }
   ],
   "source": [
    "# Aplica el filtro\n",
    "salida_filtro = custom_lfilter(ceros, polos, archivo)\n",
    "\n",
    "# Reproduce el sonido\n",
    "sd.play(salida_filtro, samplerate=fs)\n",
    "sd.wait()\n",
    "# Guarda el archivo\n",
    "write(\"dog_conFiltro.wav\", fs, salida_filtro)\n",
    "\n",
    "# Eliminación de reverberación\n",
    "input('Presione enter para escuchar reverberación eliminada')\n",
    "\n",
    "# Se invierten Y y X al ser un proceso inverso\n",
    "salida_filtro = lfilter(polos, ceros, salida_filtro)\n",
    "\n",
    "# Reproduce el sonido\n",
    "sd.play(salida_filtro, samplerate=fs)\n",
    "sd.wait()"
   ]
  },
  {
   "cell_type": "code",
   "execution_count": 61,
   "id": "15645de8-4c6d-4134-b36e-5b849645d0b7",
   "metadata": {},
   "outputs": [],
   "source": [
    "escuchar_audio(\"./Sonidos/xylophon_conFiltro.wav\")"
   ]
  },
  {
   "cell_type": "code",
   "execution_count": null,
   "id": "7ca57411-417e-4267-8e55-342a737564b8",
   "metadata": {},
   "outputs": [],
   "source": []
  }
 ],
 "metadata": {
  "kernelspec": {
   "display_name": "Python 3 (ipykernel)",
   "language": "python",
   "name": "python3"
  },
  "language_info": {
   "codemirror_mode": {
    "name": "ipython",
    "version": 3
   },
   "file_extension": ".py",
   "mimetype": "text/x-python",
   "name": "python",
   "nbconvert_exporter": "python",
   "pygments_lexer": "ipython3",
   "version": "3.11.5"
  }
 },
 "nbformat": 4,
 "nbformat_minor": 5
}
